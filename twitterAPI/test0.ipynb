{
 "cells": [
  {
   "cell_type": "code",
   "execution_count": 2,
   "metadata": {},
   "outputs": [
    {
     "name": "stderr",
     "output_type": "stream",
     "text": [
      "2022-12-21 11:26:16.527796: I tensorflow/core/platform/cpu_feature_guard.cc:193] This TensorFlow binary is optimized with oneAPI Deep Neural Network Library (oneDNN) to use the following CPU instructions in performance-critical operations:  AVX2 FMA\n",
      "To enable them in other operations, rebuild TensorFlow with the appropriate compiler flags.\n",
      "2022-12-21 11:26:16.827627: W tensorflow/stream_executor/platform/default/dso_loader.cc:64] Could not load dynamic library 'libcudart.so.11.0'; dlerror: libcudart.so.11.0: cannot open shared object file: No such file or directory\n",
      "2022-12-21 11:26:16.827647: I tensorflow/stream_executor/cuda/cudart_stub.cc:29] Ignore above cudart dlerror if you do not have a GPU set up on your machine.\n",
      "2022-12-21 11:26:16.868928: E tensorflow/stream_executor/cuda/cuda_blas.cc:2981] Unable to register cuBLAS factory: Attempting to register factory for plugin cuBLAS when one has already been registered\n",
      "2022-12-21 11:26:18.178127: W tensorflow/stream_executor/platform/default/dso_loader.cc:64] Could not load dynamic library 'libnvinfer.so.7'; dlerror: libnvinfer.so.7: cannot open shared object file: No such file or directory\n",
      "2022-12-21 11:26:18.178211: W tensorflow/stream_executor/platform/default/dso_loader.cc:64] Could not load dynamic library 'libnvinfer_plugin.so.7'; dlerror: libnvinfer_plugin.so.7: cannot open shared object file: No such file or directory\n",
      "2022-12-21 11:26:18.178220: W tensorflow/compiler/tf2tensorrt/utils/py_utils.cc:38] TF-TRT Warning: Cannot dlopen some TensorRT libraries. If you would like to use Nvidia GPU with TensorRT, please make sure the missing libraries mentioned above are installed properly.\n"
     ]
    }
   ],
   "source": [
    "import tensorflow as tf\n",
    "from tensorflow import keras\n",
    "from sklearn.model_selection import train_test_split\n",
    "import numpy as np\n",
    "import pandas as pd\n",
    "import datetime\n",
    "import json\n",
    "import pickle\n",
    "import requests\n",
    "from requests_oauthlib import OAuth1Session"
   ]
  },
  {
   "cell_type": "code",
   "execution_count": 3,
   "metadata": {},
   "outputs": [],
   "source": [
    "with open(\"keys.json\", 'r') as f:\n",
    "    token = json.loads(f.read())['bearer']"
   ]
  },
  {
   "cell_type": "code",
   "execution_count": 4,
   "metadata": {},
   "outputs": [],
   "source": [
    "# model_path = '../trainModel/tmp/checkpoint/10-0.78'\n",
    "# model = keras.models.load_model(model_path)"
   ]
  },
  {
   "cell_type": "code",
   "execution_count": 38,
   "metadata": {},
   "outputs": [
    {
     "name": "stdout",
     "output_type": "stream",
     "text": [
      "2006 saw the beginning and end of eras 🤜🤛 \n",
      "\n",
      "🤔 Was this #FIFAWorldCup a similar crossroads?\n",
      "Data | On several key metrics like goals and key passes per game, #LionelMessi performed much better than his peers in the 2022 #FIFAWorldCup. The only other player who came close to, and even surpassed, Messi was #KylianMbappe. | @VigneshJourno\n",
      "https://t.co/sn3CtpPWT6\n",
      "Kylian Mbappe left everything on the pitch.\n",
      "\n",
      "He might not have ended up on the winning side, but he was determined to inspire belief in his teammates.\n",
      "\n",
      "He gave an inspirational speech then followed it up with a hat-trick.\n",
      "\n",
      "#FIFAWorldCup\n",
      "#Qatar2022\n",
      "\n",
      "https://t.co/ZBvcOJkP9E\n",
      "Adidas have run out of Lionel Messi shirts in Argentina colours following the country’s World Cup victory in Qatar.\n",
      "\n",
      "#Qatar2022 #FIFAWorldCup\n",
      "Lovely at home and on the pitch as well.\n",
      "\n",
      "Angel Di Maria is a big game player!  \n",
      "\n",
      "He lived up to his promise in the #FIFAWorldCup final with some spectacular performances.\n",
      "\n",
      "#Qatar2022\n",
      "\n",
      "https://t.co/pI4GnjE7bn\n",
      "🚀 Bukayo Saka 🚀\n",
      "\n",
      "One month on since this strike against IR Iran 💥 \n",
      "\n",
      "#FIFAWorldCup #Qatar2022\n",
      "Purchase these Amazing laptops from KENYA'S TRUSTED laptops dealer✅\n",
      "\n",
      "Call WhatsApp 📲 0701846097\n",
      "Dm @MiatoTechnolog \n",
      "DELIVERY IS COUNTRYWIDE \n",
      "\n",
      "The CS Maxine Wahome Kisumu Githeri Amerix Ngong South Sudan #FIFAWorldCup Nigerians Somali Gachagua Kuna Emi Martinez Nairobi https://t.co/uIu2zWVsSQ\n",
      "Emi Martinez is enjoying every single moment as a world champion.\n",
      "\n",
      "Mbappe might have put four goals past him but the Argentina goalkeeper hasn't gotten over the fact that he was on the winning side.\n",
      "\n",
      "#FIFAWorldCup\n",
      "#Qatar2022\n",
      "\n",
      "https://t.co/eoF8ysYPuF\n",
      "#Messi’s post on FIFA World Cup win becomes most liked ever in history of Instagram \n",
      "\n",
      "#FIFAWorldCup  #Instagram  \n",
      "\n",
      "https://t.co/gz9tzRH17T\n",
      "#FIFAWorldCup #Morocco  \n",
      "\n",
      "Morocco’s national football team have received a hero’s welcome upon their return home after the players exceeded the North African nation’s wildest expectations and finished fourth at the World Cup in Qatar.\n",
      "\n",
      "WATCH - https://t.co/GkBvbmrHR6\n",
      "A reminder to our Indonesian community to get your very best #FIFAWorldCup pictures in ⤵️ https://t.co/RUXSlDrAMB\n",
      "The Messi NFT ⚽️ \n",
      "\n",
      "World Cup triumph means Messi is now the greatest 🏆 \n",
      "\n",
      "🎁 5✘ WL SPOTS for @TheMessiNFT\n",
      "\n",
      "To enter:\n",
      "1️⃣ Follow @TheMessiNFT  @gala_nft2\n",
      "2️⃣ Like &amp; RT &amp; Tag 3 Frens\n",
      "3️⃣ Turn  ON 🔔\n",
      "\n",
      "24H ⏰\n",
      "\n",
      "#NFT #NFTGiveaways #FIFAWorldCup #Messi #Messi𓃵 #messiworldcup https://t.co/KdHX1Of9g9\n",
      "12\n"
     ]
    }
   ],
   "source": [
    "search_url = \"https://api.twitter.com/2/tweets/search/recent\"\n",
    "\n",
    "\n",
    "pag_token = None\n",
    "\n",
    "c = 0\n",
    "for i in range(10):\n",
    "    query_params = {'query': '#fifaworldcup lang:en -is:retweet -is:reply -has:media', 'max_results': 100, \n",
    "                    'tweet.fields': {'public_metrics'}, 'pagination_token': pag_token}\n",
    "\n",
    "    r = requests.get(search_url, params=query_params, headers={\"Authorization\": f\"Bearer {token}\"}, timeout=10)\n",
    "    # print(r.json())\n",
    "    tweets = [(x['text'], x['public_metrics']['like_count']) for x in r.json()['data']]\n",
    "\n",
    "    pag_token = r.json()['meta']['next_token']\n",
    "    for t in tweets:\n",
    "        if t[1] > 20:\n",
    "            c += 1\n",
    "            print(t[0])\n",
    "    # print(f'{t}\\t{model.predict([t])}')\n",
    "print(c)"
   ]
  }
 ],
 "metadata": {
  "kernelspec": {
   "display_name": "Python 3",
   "language": "python",
   "name": "python3"
  },
  "language_info": {
   "codemirror_mode": {
    "name": "ipython",
    "version": 3
   },
   "file_extension": ".py",
   "mimetype": "text/x-python",
   "name": "python",
   "nbconvert_exporter": "python",
   "pygments_lexer": "ipython3",
   "version": "3.10.6 (main, Nov 14 2022, 16:10:14) [GCC 11.3.0]"
  },
  "orig_nbformat": 4,
  "vscode": {
   "interpreter": {
    "hash": "916dbcbb3f70747c44a77c7bcd40155683ae19c65e1c03b4aa3499c5328201f1"
   }
  }
 },
 "nbformat": 4,
 "nbformat_minor": 2
}
